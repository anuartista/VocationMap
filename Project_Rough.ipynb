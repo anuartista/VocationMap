{
  "cells": [
    {
      "cell_type": "markdown",
      "metadata": {
        "id": "view-in-github",
        "colab_type": "text"
      },
      "source": [
        "<a href=\"https://colab.research.google.com/github/anuartista/VocationMap/blob/master/Project_Rough.ipynb\" target=\"_parent\"><img src=\"https://colab.research.google.com/assets/colab-badge.svg\" alt=\"Open In Colab\"/></a>"
      ]
    },
    {
      "cell_type": "markdown",
      "metadata": {
        "id": "FfZbTCcQKbTj"
      },
      "source": [
        "# Imports"
      ]
    },
    {
      "cell_type": "code",
      "execution_count": null,
      "metadata": {
        "colab": {
          "base_uri": "https://localhost:8080/"
        },
        "id": "iW9dqGPqp9NA",
        "outputId": "3e7876fd-64ae-44f9-fafd-84958d69f4b6"
      },
      "outputs": [
        {
          "output_type": "stream",
          "name": "stdout",
          "text": [
            "Requirement already satisfied: classification_report in /usr/local/lib/python3.7/dist-packages (1.0.0)\n",
            "Requirement already satisfied: numpy in /usr/local/lib/python3.7/dist-packages (from classification_report) (1.19.5)\n",
            "Requirement already satisfied: tensorboard in /usr/local/lib/python3.7/dist-packages (from classification_report) (2.7.0)\n",
            "Requirement already satisfied: sklearn in /usr/local/lib/python3.7/dist-packages (from classification_report) (0.0)\n",
            "Requirement already satisfied: seaborn in /usr/local/lib/python3.7/dist-packages (from classification_report) (0.11.2)\n",
            "Requirement already satisfied: torch in /usr/local/lib/python3.7/dist-packages (from classification_report) (1.10.0+cu111)\n",
            "Requirement already satisfied: matplotlib in /usr/local/lib/python3.7/dist-packages (from classification_report) (3.2.2)\n",
            "Requirement already satisfied: kiwisolver>=1.0.1 in /usr/local/lib/python3.7/dist-packages (from matplotlib->classification_report) (1.3.2)\n",
            "Requirement already satisfied: pyparsing!=2.0.4,!=2.1.2,!=2.1.6,>=2.0.1 in /usr/local/lib/python3.7/dist-packages (from matplotlib->classification_report) (3.0.6)\n",
            "Requirement already satisfied: cycler>=0.10 in /usr/local/lib/python3.7/dist-packages (from matplotlib->classification_report) (0.11.0)\n",
            "Requirement already satisfied: python-dateutil>=2.1 in /usr/local/lib/python3.7/dist-packages (from matplotlib->classification_report) (2.8.2)\n",
            "Requirement already satisfied: six>=1.5 in /usr/local/lib/python3.7/dist-packages (from python-dateutil>=2.1->matplotlib->classification_report) (1.15.0)\n",
            "Requirement already satisfied: pandas>=0.23 in /usr/local/lib/python3.7/dist-packages (from seaborn->classification_report) (1.1.5)\n",
            "Requirement already satisfied: scipy>=1.0 in /usr/local/lib/python3.7/dist-packages (from seaborn->classification_report) (1.4.1)\n",
            "Requirement already satisfied: pytz>=2017.2 in /usr/local/lib/python3.7/dist-packages (from pandas>=0.23->seaborn->classification_report) (2018.9)\n",
            "Requirement already satisfied: scikit-learn in /usr/local/lib/python3.7/dist-packages (from sklearn->classification_report) (1.0.1)\n",
            "Requirement already satisfied: threadpoolctl>=2.0.0 in /usr/local/lib/python3.7/dist-packages (from scikit-learn->sklearn->classification_report) (3.0.0)\n",
            "Requirement already satisfied: joblib>=0.11 in /usr/local/lib/python3.7/dist-packages (from scikit-learn->sklearn->classification_report) (1.1.0)\n",
            "Requirement already satisfied: requests<3,>=2.21.0 in /usr/local/lib/python3.7/dist-packages (from tensorboard->classification_report) (2.23.0)\n",
            "Requirement already satisfied: tensorboard-data-server<0.7.0,>=0.6.0 in /usr/local/lib/python3.7/dist-packages (from tensorboard->classification_report) (0.6.1)\n",
            "Requirement already satisfied: absl-py>=0.4 in /usr/local/lib/python3.7/dist-packages (from tensorboard->classification_report) (0.12.0)\n",
            "Requirement already satisfied: setuptools>=41.0.0 in /usr/local/lib/python3.7/dist-packages (from tensorboard->classification_report) (57.4.0)\n",
            "Requirement already satisfied: werkzeug>=0.11.15 in /usr/local/lib/python3.7/dist-packages (from tensorboard->classification_report) (1.0.1)\n",
            "Requirement already satisfied: wheel>=0.26 in /usr/local/lib/python3.7/dist-packages (from tensorboard->classification_report) (0.37.0)\n",
            "Requirement already satisfied: google-auth-oauthlib<0.5,>=0.4.1 in /usr/local/lib/python3.7/dist-packages (from tensorboard->classification_report) (0.4.6)\n",
            "Requirement already satisfied: grpcio>=1.24.3 in /usr/local/lib/python3.7/dist-packages (from tensorboard->classification_report) (1.42.0)\n",
            "Requirement already satisfied: tensorboard-plugin-wit>=1.6.0 in /usr/local/lib/python3.7/dist-packages (from tensorboard->classification_report) (1.8.0)\n",
            "Requirement already satisfied: protobuf>=3.6.0 in /usr/local/lib/python3.7/dist-packages (from tensorboard->classification_report) (3.17.3)\n",
            "Requirement already satisfied: google-auth<3,>=1.6.3 in /usr/local/lib/python3.7/dist-packages (from tensorboard->classification_report) (1.35.0)\n",
            "Requirement already satisfied: markdown>=2.6.8 in /usr/local/lib/python3.7/dist-packages (from tensorboard->classification_report) (3.3.6)\n",
            "Requirement already satisfied: cachetools<5.0,>=2.0.0 in /usr/local/lib/python3.7/dist-packages (from google-auth<3,>=1.6.3->tensorboard->classification_report) (4.2.4)\n",
            "Requirement already satisfied: rsa<5,>=3.1.4 in /usr/local/lib/python3.7/dist-packages (from google-auth<3,>=1.6.3->tensorboard->classification_report) (4.8)\n",
            "Requirement already satisfied: pyasn1-modules>=0.2.1 in /usr/local/lib/python3.7/dist-packages (from google-auth<3,>=1.6.3->tensorboard->classification_report) (0.2.8)\n",
            "Requirement already satisfied: requests-oauthlib>=0.7.0 in /usr/local/lib/python3.7/dist-packages (from google-auth-oauthlib<0.5,>=0.4.1->tensorboard->classification_report) (1.3.0)\n",
            "Requirement already satisfied: importlib-metadata>=4.4 in /usr/local/lib/python3.7/dist-packages (from markdown>=2.6.8->tensorboard->classification_report) (4.8.2)\n",
            "Requirement already satisfied: typing-extensions>=3.6.4 in /usr/local/lib/python3.7/dist-packages (from importlib-metadata>=4.4->markdown>=2.6.8->tensorboard->classification_report) (3.10.0.2)\n",
            "Requirement already satisfied: zipp>=0.5 in /usr/local/lib/python3.7/dist-packages (from importlib-metadata>=4.4->markdown>=2.6.8->tensorboard->classification_report) (3.6.0)\n",
            "Requirement already satisfied: pyasn1<0.5.0,>=0.4.6 in /usr/local/lib/python3.7/dist-packages (from pyasn1-modules>=0.2.1->google-auth<3,>=1.6.3->tensorboard->classification_report) (0.4.8)\n",
            "Requirement already satisfied: chardet<4,>=3.0.2 in /usr/local/lib/python3.7/dist-packages (from requests<3,>=2.21.0->tensorboard->classification_report) (3.0.4)\n",
            "Requirement already satisfied: certifi>=2017.4.17 in /usr/local/lib/python3.7/dist-packages (from requests<3,>=2.21.0->tensorboard->classification_report) (2021.10.8)\n",
            "Requirement already satisfied: idna<3,>=2.5 in /usr/local/lib/python3.7/dist-packages (from requests<3,>=2.21.0->tensorboard->classification_report) (2.10)\n",
            "Requirement already satisfied: urllib3!=1.25.0,!=1.25.1,<1.26,>=1.21.1 in /usr/local/lib/python3.7/dist-packages (from requests<3,>=2.21.0->tensorboard->classification_report) (1.24.3)\n",
            "Requirement already satisfied: oauthlib>=3.0.0 in /usr/local/lib/python3.7/dist-packages (from requests-oauthlib>=0.7.0->google-auth-oauthlib<0.5,>=0.4.1->tensorboard->classification_report) (3.1.1)\n"
          ]
        }
      ],
      "source": [
        " pip install classification_report"
      ]
    },
    {
      "cell_type": "code",
      "execution_count": null,
      "metadata": {
        "colab": {
          "base_uri": "https://localhost:8080/"
        },
        "id": "FqNcOxSKp9AB",
        "outputId": "30e270fc-5c68-476a-aa5c-85de2ed62611"
      },
      "outputs": [
        {
          "output_type": "stream",
          "name": "stdout",
          "text": [
            "Requirement already satisfied: emoji in /usr/local/lib/python3.7/dist-packages (1.6.1)\n"
          ]
        }
      ],
      "source": [
        " pip install emoji"
      ]
    },
    {
      "cell_type": "code",
      "source": [
        ""
      ],
      "metadata": {
        "id": "U6usfYqxno_O"
      },
      "execution_count": null,
      "outputs": []
    },
    {
      "cell_type": "code",
      "source": [
        ""
      ],
      "metadata": {
        "id": "npijIv_Sno6e"
      },
      "execution_count": null,
      "outputs": []
    },
    {
      "cell_type": "code",
      "execution_count": null,
      "metadata": {
        "id": "0w7S4WNxGmWE",
        "colab": {
          "base_uri": "https://localhost:8080/"
        },
        "outputId": "a62bda27-ebcf-4b52-975a-164d59459ae6"
      },
      "outputs": [
        {
          "output_type": "stream",
          "name": "stdout",
          "text": [
            "Requirement already satisfied: emoji in /usr/local/lib/python3.7/dist-packages (1.6.1)\n"
          ]
        }
      ],
      "source": [
        "!pip3 install emoji\n",
        "import numpy as np\n",
        "import pandas as pd\n",
        "pd.set_option(\"display.max_colwidth\", -1)\n",
        "from time import time\n",
        "import re\n",
        "import string\n",
        "import os\n",
        "import emoji \n",
        "import sklearn\n",
        "from pprint import pprint\n",
        "import collections\n",
        "import matplotlib.pyplot as plt\n",
        "import seaborn as sns \n",
        "sns.set(style= \"darkgrid\")\n",
        "sns.set(font_scale= 1.3)\n",
        "from sklearn.base import BaseEstimator, TransformerMixin\n",
        "from sklearn.feature_extraction.text import CountVectorizer\n",
        "from sklearn.feature_extraction.text import TfidfVectorizer\n",
        "from sklearn.model_selection import GridSearchCV\n",
        "from sklearn.model_selection import train_test_split\n",
        "from sklearn.pipeline import Pipeline, FeatureUnion\n",
        "from sklearn.metrics import classification_report\n",
        "from sklearn.linear_model import LinearRegression\n",
        "from sklearn.naive_bayes import MultinomialNB\n",
        "from sklearn.linear_model import LogisticRegression\n",
        "import joblib\n",
        "import gensim\n",
        "from nltk.corpus import stopwords\n",
        "from nltk.stem import PorterStemmer\n",
        "from nltk.tokenize import word_tokenize\n",
        "import warnings \n",
        "warnings.filterwarnings('ignore')\n",
        "np.random.seed()\n"
      ]
    },
    {
      "cell_type": "markdown",
      "metadata": {
        "id": "BH9m7PgxK0Zb"
      },
      "source": [
        "# LoadData"
      ]
    },
    {
      "cell_type": "code",
      "execution_count": null,
      "metadata": {
        "id": "oqpF7kD2K6Dz"
      },
      "outputs": [],
      "source": [
        "# for uploading the dataset from the sysytem\n",
        "\n",
        "# import io\n",
        "# from google.colab import filterwarnings\n",
        "\n",
        "# train_tsv = files.upload()\n",
        "# airlines_train = pd.read_csv(io.BytesIO(train_tsv[\"Tweets.csv\"]))\n",
        "\n"
      ]
    },
    {
      "cell_type": "code",
      "execution_count": null,
      "metadata": {
        "id": "T7M-a0Kyi4Lr"
      },
      "outputs": [],
      "source": [
        "airlines_train = pd.read_csv(\"/content/drive/MyDrive/MSc_AI/internship/data/Tweets.csv\")"
      ]
    },
    {
      "cell_type": "code",
      "execution_count": null,
      "metadata": {
        "colab": {
          "base_uri": "https://localhost:8080/",
          "height": 429
        },
        "id": "l4lJxJ4NFYn9",
        "outputId": "7ee1570e-f5c4-407f-9830-cf21bcac0d4f"
      },
      "outputs": [
        {
          "output_type": "display_data",
          "data": {
            "image/png": "[encoded data removed]",
            "text/plain": [
              "<Figure size 648x432 with 1 Axes>"
            ]
          },
          "metadata": {}
        }
      ],
      "source": [
        "airlines_train = airlines_train.reindex(np.random.permutation(airlines_train.index))\n",
        "airlines_train = airlines_train[[\"text\", \"airline_sentiment\"]]\n",
        "\n",
        "sns.factorplot(x =\"airline_sentiment\", data = airlines_train, kind= \"count\", size= 6, aspect= 1.5, palette= \"GnBu_r\")\n",
        "plt.show();"
      ]
    },
    {
      "cell_type": "markdown",
      "metadata": {
        "id": "PqgXSxSQPAsk"
      },
      "source": [
        "# TextClean"
      ]
    },
    {
      "cell_type": "code",
      "execution_count": null,
      "metadata": {
        "id": "P_BcKKdmFZT8"
      },
      "outputs": [],
      "source": [
        "class CleanText(BaseEstimator, TransformerMixin):\n",
        "    def remove_mentions(self, input_text):\n",
        "      return re.sub(r'@\\w+', '', input_text)\n",
        "    \n",
        "    def remove_urls(self, input_text):\n",
        "      return re.sub(r'http.?://[^\\s]+[\\s]?', '', input_text)\n",
        "\n",
        "    def emoji_oneword(self, input_text):\n",
        "      # By compressing the underscore, the emoji is kept as one word\n",
        "      return input_text.replace('_','')\n",
        "\n",
        "    def remove_punctuation(self, input_text):\n",
        "      # Make translation table\n",
        "      punct = string.punctuation\n",
        "      trantab = str.maketrans(punct, len(punct)*' ') # Every punctuation symbol will be repalced by a space\n",
        "      return input_text.translate(trantab)\n",
        "    \n",
        "    def remove_digits(self, input_text):\n",
        "      return re.sub('\\d+', '', input_text)\n",
        "\n",
        "    def to_lower(self, input_text):\n",
        "      return input_text.lower()\n",
        "\n",
        "    def remove_stopwords(self, input_text):\n",
        "      stopwords_list = stopwords.words('english')\n",
        "      # Some words which might indicate a certain sentiment are kept via a whitelist\n",
        "      whitelist = [\"n't\", \"not\", \"no\"]\n",
        "      words = input_text.split()\n",
        "      clean_words = [word for word in words if (word not in stopwords_list or word in whitelist) and len(word) > 1]\n",
        "      return \" \".join(clean_words)\n",
        "\n",
        "    def stemming(self, input_text):\n",
        "      porter = PorterStemmer()\n",
        "      words = input_text.split()\n",
        "      stemmed_words = [porter.stem(word) for word in words]\n",
        "      return \" \".join(stemmed_words)\n",
        "\n",
        "    def fit(self, X, y= None, **fit_params):\n",
        "      return self\n",
        "\n",
        "    def transform(self, X, **transform_params):\n",
        "      clean_X = X.apply(self.remove_mentions).apply(self.remove_urls).apply(self.emoji_oneword).apply(self.remove_punctuation).apply(self.remove_digits)\n",
        "      return clean_X"
      ]
    },
    {
      "cell_type": "markdown",
      "metadata": {
        "id": "cot4xKiC1-Wz"
      },
      "source": [
        "# Use_CleanText"
      ]
    },
    {
      "cell_type": "code",
      "execution_count": null,
      "metadata": {
        "colab": {
          "base_uri": "https://localhost:8080/"
        },
        "id": "3rI1JqHe19a2",
        "outputId": "3020c953-2484-4749-c56c-de266274cf1c"
      },
      "outputs": [
        {
          "output_type": "stream",
          "name": "stdout",
          "text": [
            "[nltk_data] Downloading package punkt to /root/nltk_data...\n",
            "[nltk_data]   Package punkt is already up-to-date!\n",
            "[nltk_data] Downloading package stopwords to /root/nltk_data...\n",
            "[nltk_data]   Package stopwords is already up-to-date!\n",
            "0 records have no words left after text cleaning\n"
          ]
        }
      ],
      "source": [
        "import nltk\n",
        "nltk.download('punkt')\n",
        "nltk.download('stopwords')\n",
        "ct = CleanText()\n",
        "sr_clean = ct.fit_transform(airlines_train.text)\n",
        "sr_clean.sample(5)\n",
        "empty_clean = sr_clean == ''\n",
        "print('{} records have no words left after text cleaning'.format(sr_clean[empty_clean].count()))\n",
        "sr_clean.loc[empty_clean] = '[no_text]'"
      ]
    },
    {
      "cell_type": "markdown",
      "metadata": {
        "id": "oour7Nb9zq0Q"
      },
      "source": [
        "# CountVectorize_MostCommonWords"
      ]
    },
    {
      "cell_type": "code",
      "execution_count": null,
      "metadata": {
        "colab": {
          "base_uri": "https://localhost:8080/",
          "height": 617
        },
        "id": "rt-gROr5xFEl",
        "outputId": "806d2ace-cf5c-4362-adbd-71d958ae28b7"
      },
      "outputs": [
        {
          "output_type": "display_data",
          "data": {
            "image/png": "[encoded data removed]",
            "text/plain": [
              "<Figure size 864x720 with 1 Axes>"
            ]
          },
          "metadata": {}
        }
      ],
      "source": [
        "cv = CountVectorizer()\n",
        "bow = cv.fit_transform(sr_clean)\n",
        "word_freq = dict(zip(cv.get_feature_names(), np.asarray(bow.sum(axis = 0)).ravel()))\n",
        "word_counter = collections.Counter(word_freq)\n",
        "word_counter_df = pd.DataFrame(word_counter.most_common(20), columns = ['word', 'freq'])\n",
        "fiq, ax = plt.subplots(figsize = (12, 10))\n",
        "sns.barplot(x = \"word\", y = \"freq\", data = word_counter_df, palette = \"PuBuGn_d\", ax=ax)\n",
        "plt.show();"
      ]
    },
    {
      "cell_type": "markdown",
      "metadata": {
        "id": "gfn4IHdT2JR0"
      },
      "source": [
        "# Grid Search"
      ]
    },
    {
      "cell_type": "code",
      "execution_count": null,
      "metadata": {
        "id": "gO9ckK0n1fv8"
      },
      "outputs": [],
      "source": [
        "# Based on https://scikit-learn.org/stable/auto_examples/model_selection/grid_search_text_feature_extraction.html\n",
        "\n",
        "def grid_vect(clf, parameters_clf, X_train, X_test, parameters_text= None, vect= None, is_w2v = False):\n",
        "\n",
        "  textcountscols = ['count_capital_words', 'count_emojis', 'count_excl_quest_marks', 'count_hashtags'\n",
        "                    , 'count_mentions', 'count_urls', 'count_words']\n",
        "\n",
        "  if is_w2v:\n",
        "      w2vcols = []\n",
        "      for i in range(SIZE):\n",
        "          w2vcols.append(i)\n",
        "      features = FeatureUnion([('textcounts', ColumnExtractor(cols = textcountscols))\n",
        "                             , ('w2v', ColumnExtractor(cols=w2vcols))]\n",
        "                            , n_jobs = -1)\n",
        "  else:\n",
        "      features = FeatureUnion([('textcounts', ColumnExtractor(cols = textcountscols))\n",
        "                             , ('pipe', Pipeline([('cleantext', ColumnExtractor(cols= 'clean_text')), ('vect', vect)]))]\n",
        "                            , n_jobs= -1)\n",
        "  pipeline= Pipeline([\n",
        "      ('features', features)\n",
        "      , ('clf', clf)\n",
        "  ])\n",
        "\n",
        "\n",
        "  # Join the parameters dictionaries together\n",
        "  parameters = dict()\n",
        "  if parameters_text:\n",
        "       parameters.update(parameters_text)\n",
        "  parameters.update(parameters_clf)          # make sure you have scikit-learn versiom 0.19 or higher to use multiple scoring matrics\n",
        "  grid_search = GridSearchCV(pipeline, parameters, n_jobs= -1, verbose= 1, cv= 5)\n",
        "  \n",
        "  print(\"Performing grid search...\")\n",
        "  print(\"pipeline:\", [name for name, _ in pipeline.steps])\n",
        "  print(\"parameters:\")\n",
        "  pprint(parameters)\n",
        "  t0 = time()\n",
        "  grid_search.fit(X_train, y_train)\n",
        "  print(\"done in %0.3fs\" % (time() - t0))\n",
        "  print()\n",
        "  print(\"Best CV score: %0.3f\" % grid_search.best_score_)\n",
        "  print(\"Best parameters set:\")\n",
        "  best_parameters = grid_search.best_estimator_.get_params()\n",
        "  for param_name in sorted(parameters.keys()):\n",
        "      print(\"\\t%s: %r\" % (param_name, best_parameters[param_name]))\n",
        "\n",
        "  print(\"Text score with best_estimator_: %0.3f\" % grid_search.best_estimator_.score(X_test, y_test))\n",
        "  print(\"\\n\")\n",
        "  print(\"Classification Report Test Data\")\n",
        "  print(classification_report(y_test, grid_search.best_estimator_.predict(X_test)))\n",
        "\n",
        "  return grid_search"
      ]
    },
    {
      "cell_type": "markdown",
      "metadata": {
        "id": "vhykr2uGAvM8"
      },
      "source": [
        "# Parameter Grid Search For Vectorizers"
      ]
    },
    {
      "cell_type": "code",
      "execution_count": null,
      "metadata": {
        "id": "S-1AJvs7A1sN"
      },
      "outputs": [],
      "source": [
        "# Parameter grid settings for the vectorizers (Count and TFIDF)\n",
        "parameters_vect = {\n",
        "    'features__pipe__vect__max_df': (0.25, 0.5, 0.75),\n",
        "    'features__pipe__vect__ngram_range': ((1, 1), (1, 2)),\n",
        "    'features__pipe__vect__min_df': (1,2)\n",
        "}\n",
        "\n",
        "# Parameter grid settings for MultinominalNB\n",
        "parameters_mnb = {\n",
        "    'clf__alpha': (0.25,0.5, 0.75)\n",
        "}\n",
        "# Parameter grid settings for LogisticRegression\n",
        "parameters_logreg = {\n",
        "    'clf__C': (0.25, 0.5, 1.0),\n",
        "    'clf__penalty': ('l1', 'l2')\n",
        "}"
      ]
    },
    {
      "cell_type": "markdown",
      "metadata": {
        "id": "zO9NwBk4USYV"
      },
      "source": [
        "# Column Extractor"
      ]
    },
    {
      "cell_type": "code",
      "execution_count": null,
      "metadata": {
        "id": "ogr06OQ8TT2L"
      },
      "outputs": [],
      "source": [
        "class ColumnExtractor(TransformerMixin, BaseEstimator):\n",
        "  def __init__(self, cols):\n",
        "    self.cols = cols \n",
        "  def transform(self, X, **transform_params):\n",
        "    return X[self.cols]\n",
        "  def fit(self, X, y= None, **fit_params):\n",
        "    return self"
      ]
    },
    {
      "cell_type": "markdown",
      "metadata": {
        "id": "BYp4ShlKUX7p"
      },
      "source": [
        "# Text Counts"
      ]
    },
    {
      "cell_type": "code",
      "execution_count": null,
      "metadata": {
        "id": "tnk90uXXUkAI"
      },
      "outputs": [],
      "source": [
        "class TextCounts(BaseEstimator, TransformerMixin):\n",
        "\n",
        "  def count_regex(self, pattern, tweet):\n",
        "    return len(re.findall(pattern, tweet))\n",
        "\n",
        "  def fit(self, X, y=None, **fit_params):\n",
        "    # fit method is used when specific operations need to be done on the test data\n",
        "    return self\n",
        "  \n",
        "  def transform(self, X, **transform_params):\n",
        "    count_words = X.apply(lambda x: self.count_regex(r'\\w+', x))\n",
        "    count_mentions = X.apply(lambda x: self.count_regex(r'@\\w+', x))\n",
        "    count_hashtags = X.apply(lambda x: self.count_regex(r'#\\w+', x))\n",
        "    count_capital_words = X.apply(lambda x: self.count_regex(r'\\b[A-Z]{2,}\\b', x))\n",
        "    count_excl_quest_marks = X.apply(lambda x: self.count_regex(r'!|\\?', x))\n",
        "    count_urls = X.apply(lambda x: self.count_regex(r'http.?://[^\\s]+[\\s]?', x))\n",
        "    # We will replace the emoji symbols with a descrpition, which makes using a regex for counting easier\n",
        "    # Moreover, it will result in having more words in the tweet\n",
        "    count_emojis = X.apply(lambda x: emoji.demojize(x)).apply(lambda x: self.count_regex(r':[a-z_&]+:', x))\n",
        "\n",
        "    df = pd.DataFrame({'count_words': count_words\n",
        "                       , 'count_mentions': count_mentions\n",
        "                       , 'count_hashtags': count_hashtags\n",
        "                       , 'count_capital_words': count_capital_words\n",
        "                       , 'count_excl_quest_marks': count_excl_quest_marks\n",
        "                       , 'count_urls': count_urls\n",
        "                       , 'count_emojis': count_emojis\n",
        "                       })\n",
        "    \n",
        "  \n",
        "    return df\n",
        "tc = TextCounts()\n",
        "airlines_eda = tc.fit_transform(airlines_train.text)\n",
        "airlines_eda['airline_sentiment'] = airlines_train.airline_sentiment\n",
        "\n"
      ]
    },
    {
      "cell_type": "markdown",
      "metadata": {
        "id": "LVD-a6S2VA3r"
      },
      "source": [
        "# Count Vectorizer Classifiers"
      ]
    },
    {
      "cell_type": "code",
      "execution_count": null,
      "metadata": {
        "colab": {
          "base_uri": "https://localhost:8080/"
        },
        "id": "QwjvfL94VGFh",
        "outputId": "ec23797d-600c-4eb7-dec5-36fc0a1d74cb"
      },
      "outputs": [
        {
          "output_type": "stream",
          "name": "stdout",
          "text": [
            "Performing grid search...\n",
            "pipeline: ['features', 'clf']\n",
            "parameters:\n",
            "{'clf__alpha': (0.25, 0.5, 0.75),\n",
            " 'features__pipe__vect__max_df': (0.25, 0.5, 0.75),\n",
            " 'features__pipe__vect__min_df': (1, 2),\n",
            " 'features__pipe__vect__ngram_range': ((1, 1), (1, 2))}\n",
            "Fitting 5 folds for each of 36 candidates, totalling 180 fits\n",
            "done in 86.307s\n",
            "\n",
            "Best CV score: 0.794\n",
            "Best parameters set:\n",
            "\tclf__alpha: 0.75\n",
            "\tfeatures__pipe__vect__max_df: 0.5\n",
            "\tfeatures__pipe__vect__min_df: 2\n",
            "\tfeatures__pipe__vect__ngram_range: (1, 2)\n",
            "Text score with best_estimator_: 0.800\n",
            "\n",
            "\n",
            "Classification Report Test Data\n",
            "              precision    recall  f1-score   support\n",
            "\n",
            "    negative       0.83      0.93      0.88       910\n",
            "     neutral       0.72      0.53      0.61       320\n",
            "    positive       0.76      0.65      0.70       234\n",
            "\n",
            "    accuracy                           0.80      1464\n",
            "   macro avg       0.77      0.71      0.73      1464\n",
            "weighted avg       0.79      0.80      0.79      1464\n",
            "\n",
            "Performing grid search...\n",
            "pipeline: ['features', 'clf']\n",
            "parameters:\n",
            "{'clf__C': (0.25, 0.5, 1.0),\n",
            " 'clf__penalty': ('l1', 'l2'),\n",
            " 'features__pipe__vect__max_df': (0.25, 0.5, 0.75),\n",
            " 'features__pipe__vect__min_df': (1, 2),\n",
            " 'features__pipe__vect__ngram_range': ((1, 1), (1, 2))}\n",
            "Fitting 5 folds for each of 72 candidates, totalling 360 fits\n",
            "done in 471.032s\n",
            "\n",
            "Best CV score: 0.799\n",
            "Best parameters set:\n",
            "\tclf__C: 0.5\n",
            "\tclf__penalty: 'l2'\n",
            "\tfeatures__pipe__vect__max_df: 0.5\n",
            "\tfeatures__pipe__vect__min_df: 1\n",
            "\tfeatures__pipe__vect__ngram_range: (1, 2)\n",
            "Text score with best_estimator_: 0.797\n",
            "\n",
            "\n",
            "Classification Report Test Data\n",
            "              precision    recall  f1-score   support\n",
            "\n",
            "    negative       0.84      0.91      0.87       910\n",
            "     neutral       0.67      0.59      0.63       320\n",
            "    positive       0.75      0.64      0.69       234\n",
            "\n",
            "    accuracy                           0.80      1464\n",
            "   macro avg       0.75      0.71      0.73      1464\n",
            "weighted avg       0.79      0.80      0.79      1464\n",
            "\n"
          ]
        }
      ],
      "source": [
        "df_model = airlines_eda\n",
        "df_model['clean_text'] = sr_clean\n",
        "df_model.columns.tolist()\n",
        "X_train, X_test, y_train, y_test = train_test_split(df_model.drop('airline_sentiment', axis=1), df_model.airline_sentiment, test_size= 0.1, random_state= 37)\n",
        "mnb = MultinomialNB()\n",
        "logreg = LogisticRegression()\n",
        "countvect = CountVectorizer() # MultinomialNB\n",
        "best_mnb_countvect = grid_vect(mnb, parameters_mnb, X_train, X_test, parameters_text= parameters_vect, vect= countvect)\n",
        "# joblib.dump(best_mnb_countvect, '../output/best_mnb_countvect.pk1') # LogisticRegression\n",
        "best_logreg_countvect = grid_vect(logreg, parameters_logreg, X_train, X_test, parameters_text = parameters_vect, vect= countvect)\n",
        "# joblib.dump(best_logreg_countvect, '../output/best_logreg_countvect.pk1')"
      ]
    },
    {
      "cell_type": "markdown",
      "metadata": {
        "id": "vqvnr1xeUual"
      },
      "source": [
        "# TFIDF_Classifers"
      ]
    },
    {
      "cell_type": "code",
      "execution_count": null,
      "metadata": {
        "colab": {
          "base_uri": "https://localhost:8080/"
        },
        "id": "PCfV2ELp7R6h",
        "outputId": "0583cd58-82ed-43cf-9ef7-fcc7db23bc86"
      },
      "outputs": [
        {
          "output_type": "stream",
          "name": "stdout",
          "text": [
            "MultinomialNB\n",
            "Performing grid search...\n",
            "pipeline: ['features', 'clf']\n",
            "parameters:\n",
            "{'clf__alpha': (0.25, 0.5, 0.75),\n",
            " 'features__pipe__vect__max_df': (0.25, 0.5, 0.75),\n",
            " 'features__pipe__vect__min_df': (1, 2),\n",
            " 'features__pipe__vect__ngram_range': ((1, 1), (1, 2))}\n",
            "Fitting 5 folds for each of 36 candidates, totalling 180 fits\n",
            "done in 84.198s\n",
            "\n",
            "Best CV score: 0.751\n",
            "Best parameters set:\n",
            "\tclf__alpha: 0.25\n",
            "\tfeatures__pipe__vect__max_df: 0.25\n",
            "\tfeatures__pipe__vect__min_df: 2\n",
            "\tfeatures__pipe__vect__ngram_range: (1, 2)\n",
            "Text score with best_estimator_: 0.745\n",
            "\n",
            "\n",
            "Classification Report Test Data\n",
            "              precision    recall  f1-score   support\n",
            "\n",
            "    negative       0.74      0.98      0.84       910\n",
            "     neutral       0.75      0.32      0.44       320\n",
            "    positive       0.79      0.42      0.55       234\n",
            "\n",
            "    accuracy                           0.74      1464\n",
            "   macro avg       0.76      0.57      0.61      1464\n",
            "weighted avg       0.75      0.74      0.71      1464\n",
            "\n",
            "LogisticRegression\n",
            "Performing grid search...\n",
            "pipeline: ['features', 'clf']\n",
            "parameters:\n",
            "{'clf__C': (0.25, 0.5, 1.0),\n",
            " 'clf__penalty': ('l1', 'l2'),\n",
            " 'features__pipe__vect__max_df': (0.25, 0.5, 0.75),\n",
            " 'features__pipe__vect__min_df': (1, 2),\n",
            " 'features__pipe__vect__ngram_range': ((1, 1), (1, 2))}\n",
            "Fitting 5 folds for each of 72 candidates, totalling 360 fits\n",
            "done in 452.824s\n",
            "\n",
            "Best CV score: 0.765\n",
            "Best parameters set:\n",
            "\tclf__C: 1.0\n",
            "\tclf__penalty: 'l2'\n",
            "\tfeatures__pipe__vect__max_df: 0.25\n",
            "\tfeatures__pipe__vect__min_df: 2\n",
            "\tfeatures__pipe__vect__ngram_range: (1, 1)\n",
            "Text score with best_estimator_: 0.769\n",
            "\n",
            "\n",
            "Classification Report Test Data\n",
            "              precision    recall  f1-score   support\n",
            "\n",
            "    negative       0.80      0.93      0.86       910\n",
            "     neutral       0.68      0.51      0.58       320\n",
            "    positive       0.70      0.50      0.59       234\n",
            "\n",
            "    accuracy                           0.77      1464\n",
            "   macro avg       0.73      0.65      0.68      1464\n",
            "weighted avg       0.76      0.77      0.75      1464\n",
            "\n"
          ]
        }
      ],
      "source": [
        "tfidfvect = TfidfVectorizer() # MultinominalNB\n",
        "print(\"MultinomialNB\")\n",
        "best_mnb_tfidf = grid_vect(mnb, parameters_mnb, X_train, X_test, parameters_text= parameters_vect, vect= tfidfvect)\n",
        "# LogisticRegression\n",
        "print(\"LogisticRegression\")\n",
        "best_logreg_tfidf = grid_vect(logreg, parameters_logreg, X_train, X_test, parameters_text=parameters_vect, vect=tfidfvect)"
      ]
    }
  ],
  "metadata": {
    "colab": {
      "collapsed_sections": [],
      "name": "Project Rough",
      "provenance": [],
      "mount_file_id": "1GZ5ZzXEKmn64INxm2uzToYfh-vcTjbaf",
      "authorship_tag": "ABX9TyPqRJ3s2yZKOy+gQyaZsR6Y",
      "include_colab_link": true
    },
    "kernelspec": {
      "display_name": "Python 3",
      "name": "python3"
    },
    "language_info": {
      "name": "python"
    }
  },
  "nbformat": 4,
  "nbformat_minor": 0
}